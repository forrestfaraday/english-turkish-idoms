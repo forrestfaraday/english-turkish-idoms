{
 "cells": [
  {
   "cell_type": "markdown",
   "metadata": {},
   "source": [
    "# Install necessary packages"
   ]
  },
  {
   "cell_type": "code",
   "execution_count": 1,
   "metadata": {},
   "outputs": [],
   "source": [
    "# !pip install --upgrade pip\n",
    "# !pip install bs4\n",
    "# !pip install requests\n",
    "# !pip install html5lib\n",
    "# !pip install lxml\n",
    "# !pip install selenium==4.8.0\n",
    "# !pip install webdriver-manager\n",
    "# !pip install pandas\n",
    "# !pip install numpy\n",
    "# !pip install matplotlib\n",
    "# !pip install seaborn\n"
   ]
  },
  {
   "cell_type": "code",
   "execution_count": 3,
   "metadata": {},
   "outputs": [],
   "source": [
    "url = \"https://www.turkishclass101.com/blog/2021/06/10/best-turkish-proverbs/#1\"\n"
   ]
  },
  {
   "cell_type": "code",
   "execution_count": 4,
   "metadata": {},
   "outputs": [],
   "source": [
    "import undetected_chromedriver as uc\n",
    "from bs4 import BeautifulSoup\n",
    " \n",
    "# Define a custom user agent\n",
    "my_user_agent = \"Mozilla/5.0 (Windows NT 10.0; Win64; x64) AppleWebKit/537.36 (KHTML, like Gecko) Chrome/92.0.4515.159 Safari/537.36\"\n",
    " \n",
    "# Set up Chrome options\n",
    "options = uc.ChromeOptions()\n",
    "options.add_argument(\"--headless\")\n",
    "options.add_argument(f\"user-agent={my_user_agent}\")\n",
    " \n",
    "# Initialize Chrome WebDriver with the specified options\n",
    "driver = uc.Chrome(options=options)\n",
    " \n",
    "# Make a request to your target website.\n",
    "driver.get(url=url)\n",
    "\n",
    "# Close the driver\n",
    "# driver.quit()\n"
   ]
  },
  {
   "cell_type": "code",
   "execution_count": 5,
   "metadata": {},
   "outputs": [],
   "source": [
    "soup = BeautifulSoup(driver.page_source, 'html.parser') # driver.page_source is the html code of the page"
   ]
  },
  {
   "cell_type": "code",
   "execution_count": 6,
   "metadata": {},
   "outputs": [],
   "source": [
    "idioms_table = soup.find_all('figure', class_='wp-block-table') # find all the tables in the page"
   ]
  },
  {
   "cell_type": "code",
   "execution_count": 7,
   "metadata": {},
   "outputs": [],
   "source": [
    "# a single idiom table\n",
    "# first tr is the turkish idiom. Second td of first tr is the idiom\n",
    "# second tr is the literal translation. Second td of second tr is the literal translation\n",
    "# third tr is the english equivalent. third tr has only one td. It contains explanation, example sentence and english equivalent sentence.\n",
    "# fourth tr is the example\n",
    "\n",
    "html_content = '''\n",
    "<figure class=\"wp-block-table\">\n",
    "    <table border=\"1\" cellspacing=\"0\" width=\"100%\">\n",
    "        <tbody>\n",
    "            <tr>\n",
    "                <td rowspan=\"4\">1</td>\n",
    "                <td width=\"30%\"><strong><span class=\"has-inline-color has-vivid-purple-color\">Turkish</span></strong></td>\n",
    "                <td><em>Zaman her şeyin ilacıdır.</em></td>\n",
    "            </tr>\n",
    "            <tr>\n",
    "                <td><strong><span class=\"has-inline-color has-pale-cyan-blue-color\">Literally</span></strong></td>\n",
    "                <td>Time is the medicine of everything.</td>\n",
    "            </tr>\n",
    "            <tr>\n",
    "                <td><strong><span class=\"has-inline-color has-vivid-cyan-blue-color\">Equivalent in English</span></strong></td>\n",
    "                <td>Time is the best medicine.</td>\n",
    "            </tr>\n",
    "            <tr>\n",
    "                <td colspan=\"3\">\n",
    "                    As time passes, all the troubles we experience are forgotten or the sorrow we feel decreases.<br/><br/>\n",
    "                    <u>Example:</u><br/><br/>\n",
    "                    <em>Üzülme, bugünler de geçecek; zaman her şeyin ilacıdır.</em><br/><br/>\n",
    "                    “Don’t worry, these days will be over, too; time is the best medicine.”\n",
    "                </td>\n",
    "            </tr>\n",
    "        </tbody>\n",
    "    </table>\n",
    "</figure>\n",
    "'''\n",
    "\n"
   ]
  },
  {
   "cell_type": "code",
   "execution_count": 23,
   "metadata": {},
   "outputs": [],
   "source": [
    "import re\n",
    "import pandas as pd\n",
    "\n",
    "def extract_idioms(idioms_table):\n",
    "    \"\"\"\n",
    "    Extracts information from a list of idiom tables.\n",
    "\n",
    "    Parameters:\n",
    "    idioms_table (list): A list of BeautifulSoup objects representing idiom tables.\n",
    "\n",
    "    Returns:\n",
    "    tuple: A tuple of lists containing the extracted information. The lists are in the following order:\n",
    "        - idioms: A list of strings representing the Turkish idioms.\n",
    "        - Literals: A list of strings representing the literal translations of the idioms.\n",
    "        - equivalents: A list of strings representing the English equivalents of the idioms.\n",
    "        - explanations: A list of strings representing the explanations of the idioms.\n",
    "        - tr_sentences: A list of strings representing the example sentences in Turkish.\n",
    "        - en_sentences: A list of strings representing the example sentences in English.\n",
    "    \"\"\"\n",
    "    idioms = []\n",
    "    Literals = []\n",
    "    equivalents = []\n",
    "    explanations = []\n",
    "    tr_sentences = []\n",
    "    en_sentences = []\n",
    "\n",
    "    for idiom_table in idioms_table:\n",
    "        for idx,tr in enumerate(idiom_table.find_all('tr')):\n",
    "            if idx == 0:\n",
    "                idiom = tr.find_all('td')[2].text\n",
    "                idioms.append(idiom)\n",
    "            elif idx == 1:\n",
    "                literal = tr.find_all('td')[1].text\n",
    "                Literals.append(literal)\n",
    "            elif idx == 2:\n",
    "                try:\n",
    "                    equivalent = tr.find_all('td')[1].text\n",
    "                    equivalents.append(equivalent)\n",
    "                except:\n",
    "                    equivalents.append(None)\n",
    "            elif idx == 3:\n",
    "                raw = str(tr.find_all('td')) # convert to string for regex\n",
    "                print(raw)\n",
    "                explanation = raw[raw.index('[<td colspan=\"3\">')+len('[<td colspan=\"3\">'):raw.index(\"<br/><br/>\")] # extract explanation\n",
    "                explanations.append(explanation)\n",
    "                tr_sentence = raw[raw.index('<em>')+len('<em>'):raw.index('</em>')]\n",
    "                tr_sentences.append(tr_sentence)    \n",
    "                en_sentence = raw[raw.index('</em><br/><br/>')+len('</em><br/><br/>'):raw.index('</td>')]\n",
    "                en_sentences.append(en_sentence)\n",
    "\n",
    "    return (idioms, Literals, equivalents, explanations, tr_sentences, en_sentences)\n",
    "\n",
    "\n"
   ]
  },
  {
   "cell_type": "code",
   "execution_count": 25,
   "metadata": {},
   "outputs": [],
   "source": [
    "import re\n",
    "import pandas as pd\n",
    "\n",
    "def extract_idioms(idioms_table):\n",
    "    \"\"\"\n",
    "    Extracts information from a list of idiom tables.\n",
    "\n",
    "    Parameters:\n",
    "    idioms_table (list): A list of BeautifulSoup objects representing idiom tables.\n",
    "\n",
    "    Returns:\n",
    "    tuple: A tuple of lists containing the extracted information. The lists are in the following order:\n",
    "        - idioms: A list of strings representing the Turkish idioms.\n",
    "        - Literals: A list of strings representing the literal translations of the idioms.\n",
    "        - equivalents: A list of strings representing the English equivalents of the idioms.\n",
    "        - explanations: A list of strings representing the explanations of the idioms.\n",
    "        - tr_sentences: A list of strings representing the example sentences in Turkish.\n",
    "        - en_sentences: A list of strings representing the example sentences in English.\n",
    "    \"\"\"\n",
    "    idioms = []\n",
    "    Literals = []\n",
    "    equivalents = []\n",
    "    explanations = []\n",
    "    tr_sentences = []\n",
    "    en_sentences = []\n",
    "\n",
    "    for idiom_table in idioms_table:\n",
    "        for idx,tr in enumerate(idiom_table.find_all('tr')):\n",
    "            if idx == 0:\n",
    "                idiom = tr.find_all('td')[2].text\n",
    "                idioms.append(idiom)\n",
    "            elif idx == 1:\n",
    "                literal = tr.find_all('td')[1].text\n",
    "                Literals.append(literal)\n",
    "            elif idx == 2:\n",
    "                if \"Equivalent in English\" in tr.find_all('td')[0].text:\n",
    "                        equivalent = tr.find_all('td')[1].text\n",
    "                        equivalents.append(equivalent)\n",
    "                else:\n",
    "                    equivalents.append(None)\n",
    "                    raw = str(tr.find_all('td')) # convert to string for regex\n",
    "                    explanation = raw[raw.index('[<td colspan=\"3\">')+len('[<td colspan=\"3\">'):raw.index(\"<br/><br/>\")] # extract explanation\n",
    "                    explanations.append(explanation)\n",
    "                    tr_sentence = raw[raw.index('<em>')+len('<em>'):raw.index('</em>')]\n",
    "                    tr_sentences.append(tr_sentence)    \n",
    "                    en_sentence = raw[raw.index('</em><br/><br/>')+len('</em><br/><br/>'):raw.index('</td>')]\n",
    "                    en_sentences.append(en_sentence)\n",
    "                    \n",
    "                    continue\n",
    "                    \n",
    "            elif idx == 3:\n",
    "                raw = str(tr.find_all('td')) # convert to string for regex\n",
    "                print(raw)\n",
    "                explanation = raw[raw.index('[<td colspan=\"3\">')+len('[<td colspan=\"3\">'):raw.index(\"<br/><br/>\")] # extract explanation\n",
    "                explanations.append(explanation)\n",
    "                tr_sentence = raw[raw.index('<em>')+len('<em>'):raw.index('</em>')]\n",
    "                tr_sentences.append(tr_sentence)    \n",
    "                en_sentence = raw[raw.index('</em><br/><br/>')+len('</em><br/><br/>'):raw.index('</td>')]\n",
    "                en_sentences.append(en_sentence)\n",
    "\n",
    "    return (idioms, Literals, equivalents, explanations, tr_sentences, en_sentences)\n",
    "\n",
    "\n"
   ]
  },
  {
   "cell_type": "code",
   "execution_count": 28,
   "metadata": {},
   "outputs": [
    {
     "data": {
      "text/plain": [
       "30"
      ]
     },
     "execution_count": 28,
     "metadata": {},
     "output_type": "execute_result"
    }
   ],
   "source": [
    "len(idioms_table)"
   ]
  },
  {
   "cell_type": "code",
   "execution_count": 26,
   "metadata": {},
   "outputs": [
    {
     "name": "stdout",
     "output_type": "stream",
     "text": [
      "[<td colspan=\"3\">As time passes, all the troubles we experience are forgotten or the sorrow we feel decreases.<br/><br/><u>Example:</u><br/><br/><em>Üzülme, bugünler de geçecek; zaman her şeyin ilacıdır.</em><br/><br/>“Don’t worry, these days will be over, too; time is the best medicine.”</td>]\n",
      "[<td colspan=\"3\">If you hold onto something you have for long enough, it will eventually become useful.<br/><br/><u>Example:</u><br/><br/><em>İyi ki kızımın bebek arabasını saklamışım, şimdi senin çok işine yarayacak. Eee, sakla samanı gelir zamanı.</em><br/><br/>“Fortunately, I saved my daughter’s stroller. It will be very useful for you now. See, keep a thing for seven years and you’ll find a use for it.”  </td>]\n",
      "[<td colspan=\"3\">This proverb emphasizes that time is a valuable resource.<br/><br/><u>Example:</u><br/><br/><em>Bir an önce işe gitmeliyim. Eee, ne de olsa vakit nakittir.</em><br/><br/>“I have to go to work as soon as possible. Well, after all, time is money.”  </td>]\n",
      "[<td colspan=\"3\">This one emphasizes that one should not delay doing something that can be done today. <br/><br/><u>Example:</u><br/><br/><em>Ödevimi yarın yaparım deyince babam bugünün işini yarına bırakma dedi.</em><br/><br/>“When I said I would do my homework tomorrow, my father said ‘Never put off till tomorrow what you can do today.’ “</td>]\n",
      "[<td colspan=\"3\">The people who lag behind will either lose or not have any benefits.<br/><br/><u>Example:</u><br/><br/><em>Ali amca çocuklara şeker veriyor, koşun; sona kalan dona kalır.</em><br/><br/>“Uncle Ali is giving candy to the children, run; the devil takes the hindmost.”</td>]\n",
      "[<td colspan=\"3\">This proverb advises that if someone does something immediately (or before anyone else), he/she will have an advantage.<br/><br/><u>Example:</u><br/><br/><em>Daha 5 saatlik yolumuz var, artık yola çıksak iyi olur. Ne de olsa, erken kalkan yol alır.</em><br/><br/>“We have five more hours to go, we’d better get going. After all, the early bird catches the worm.”</td>]\n",
      "[<td colspan=\"3\">If something didn’t fail completely, there is still a chance to save it.<br/><br/><u>Example:</u><br/><br/><em>Üzülme, son aday henüz açıklanmadı. Çıkmadın candan umut kesilmez.</em><br/><br/>“Don’t worry, the last candidate has not been announced yet. While there’s life, there’s hope.”</td>]\n",
      "[<td colspan=\"3\">A person should never lose hope, because nobody knows what’s going to happen tomorrow.<br/><br/><u>Example:</u><br/><br/><em>Öyle hemen umudunu kaybetme. Gün doğmadan neler doğar.</em><br/><br/>“Don’t lose your hope. Tomorrow is another day.”</td>]\n",
      "[<td colspan=\"3\">This proverb means that a person’s friends are a reflection of who he/she is.<br/><br/><u>Example:</u><br/><br/><em>John o gruba girdiğinden beri her gün kavga ediyor. Eee, ne demişler ‘Bana arkadaşını söyle sana kim olduğunu söyleyeyim.’</em><br/><br/>“Since John got into that group, he’s been fighting every day. Well, they say, ‘Tell me who you go with, and I’ll tell you who you are.’ ”  </td>]\n",
      "[<td colspan=\"3\">A person who stays by your side during difficult times is someone you can really rely on.<br/><br/><u>Example:</u><br/><br/><em>İflas ettiğinden beri Mary dışında hiçbir arkadaşı yanında değil.  Eee, dost kara günde belli olur.</em><br/><br/>“Since she went bankrupt, none of her friends are with her except for Mary. Well, a friend in need is a friend indeed.”</td>]\n",
      "[<td colspan=\"3\">The one who pays for something is the one who has a say in related matters.<br/><br/><u>Example:</u><br/><br/><em>Sen de ona para verseydin, sana da dondurma getirirdi; parayı veren düdüğü çalar.</em><br/><br/>“If you had given him money, he would have brought you ice cream, too; who pays the piper calls the tune.”  </td>]\n",
      "[<td colspan=\"3\">If someone has money, he/she can make more money with it since money brings more advantages and opportunities.<br/><br/><u>Example:</u><br/><br/><em>Jane lotoyu tutturmuş. Eee para parayı çeker.</em><br/><br/>“Jane has won the lottery. Well, them as has, gits.” </td>]\n",
      "[<td colspan=\"3\">This proverb means that it’s not easy to earn money; it requires a lot of effort.<br/><br/><u>Example:</u><br/><br/><em>Paranı çarçur etmemelisin. Malum, ekmek aslanın ağzında.</em><br/><br/>“You shouldn’t waste your money. As you know, bread is in the mouth of the lion.”</td>]\n",
      "[<td colspan=\"3\">We can’t know it all. It’s good to ask for other people’s opinions, because they may have better ideas than we do. <br/><br/><u>Example:</u><br/><br/><em>Sana da sorayım. Ne de olsa akıl akıldan üstündür. Sence ona nasıl davranmalıyım? </em><br/><br/>“Let me ask you as well. After all, two heads are better than one. How do you think I should treat him/her?”</td>]\n",
      "[<td colspan=\"3\">A person doesn’t need to be old in order to think wisely, or to realize what’s going on. Using one’s brain and learning from experience leads to wisdom. Therefore, a person is not wise just because they’re old; a person who is young may also be wise.<br/><br/><u>Example:</u><br/><br/><em>Çok genç ve tecrübesiz olmasına rağmen durumu iyi idare etti. Ne de olsa, akıl yaşta değil baştadır. </em><br/><br/>“Although he is very young and inexperienced, he managed the situation well. After all, wisdom doesn’t come with age.”</td>]\n",
      "[<td colspan=\"3\">We shouldn’t forget that things can happen, even if we don’t expect or foresee them.<br/><br/><u>Example:</u><br/><br/><em>Kapının önünde zili tamir ediyordum. Kapı açık diye anahtarımı almadım. Bir rüzgar esti, kapı kapandı. Akla gelmeyen başa geliyor.</em><br/><br/> “I was fixing the bell in front of the door. I didn’t get my key because the door was open. The wind blew, the door got closed. The unexpected always happens.”</td>]\n",
      "[<td colspan=\"3\">This proverb means that it’s impossible to explain something to an ignorant person.<br/><br/><u>Example:</u><br/><br/><em>Hepimiz en az üç kez anlattık ama anlamadı. Cahile söz anlatmak, deveye hendek atlatmaktan güç.</em><br/><br/>“All of us told him at least three times, but he didn’t understand. It’s like getting blood from a turnip.”</td>]\n",
      "[<td colspan=\"3\">We can’t control everything. Whatever is meant or predetermined to take place will take place.<br/><br/><u>Example:</u><br/><br/><em>O kadar uğraştım ama yine de olmadı. Anladım ki olacakla öleceğe çare yok.</em><br/><br/>“I tried so hard, but it still didn’t happen. I realized that whatever will be, will be.” </td>]\n",
      "[<td colspan=\"3\">This one means that nothing happens when we only talk about it; action is needed. In other words, what you do is more important than what you say.<br/><br/><u>Example:</u><br/><br/><em>O hep konuşuyor, hiçbir şey yaptığı yok ama lafla da peynir gemisi yürümez. </em><br/><br/>“He/she always talks, he/she does nothing, but actions speak louder than words.” </td>]\n",
      "[<td colspan=\"3\">This proverb means that what other people have always seems better than what we have.<br/><br/><u>Example:</u><br/><br/><em>Sally Jen’in elbisesini çok beğendi. Halbuki aynısı onda da var. Komşunun tavuğu komşuya kaz görünür.</em><br/><br/>“Sally liked Jen’s dress very much. However, she has the same dress. The grass is always greener on the other side of the fence.”  </td>]\n",
      "[<td colspan=\"3\">If someone has had an unpleasant experience in the past, they become more cautious.<br/><br/><u>Example:</u><br/><br/><em>O hemen David’in evlenme teklifini kabul etmek istemiyor. Eee, sütten ağzı yanan yoğurdu üfleyerek yer.</em><br/><br/>“He doesn’t want to accept David’s marriage proposal right away. Well, once burnt, twice shy.” </td>]\n"
     ]
    }
   ],
   "source": [
    "idioms, Literals, equivalents, explanations, tr_sentences, en_sentences = extract_idioms(idioms_table)"
   ]
  },
  {
   "cell_type": "code",
   "execution_count": 27,
   "metadata": {},
   "outputs": [
    {
     "data": {
      "text/plain": [
       "(30, 30, 30, 30, 30, 30)"
      ]
     },
     "execution_count": 27,
     "metadata": {},
     "output_type": "execute_result"
    }
   ],
   "source": [
    "len(idioms), len(Literals), len(equivalents), len(explanations), len(tr_sentences), len(en_sentences)"
   ]
  }
 ],
 "metadata": {
  "kernelspec": {
   "display_name": "scrap",
   "language": "python",
   "name": "python3"
  },
  "language_info": {
   "codemirror_mode": {
    "name": "ipython",
    "version": 3
   },
   "file_extension": ".py",
   "mimetype": "text/x-python",
   "name": "python",
   "nbconvert_exporter": "python",
   "pygments_lexer": "ipython3",
   "version": "3.10.12"
  }
 },
 "nbformat": 4,
 "nbformat_minor": 2
}
